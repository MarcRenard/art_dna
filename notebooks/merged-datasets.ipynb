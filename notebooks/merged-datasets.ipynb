{
 "cells": [
  {
   "cell_type": "markdown",
   "id": "2b924115-4ee1-48c9-afc1-eb7fab3646d6",
   "metadata": {},
   "source": [
    "# Creating a database with artists from image filenames and cleaned art styles"
   ]
  },
  {
   "cell_type": "code",
   "execution_count": 1,
   "id": "58556723-6676-40bf-903a-a89e669cf276",
   "metadata": {},
   "outputs": [],
   "source": [
    "import pandas as pd"
   ]
  },
  {
   "cell_type": "code",
   "execution_count": 2,
   "id": "45e11042-1efc-424e-b93e-094dc039d50c",
   "metadata": {},
   "outputs": [],
   "source": [
    "from sklearn.preprocessing import MultiLabelBinarizer"
   ]
  },
  {
   "cell_type": "code",
   "execution_count": 3,
   "id": "c5846968-80c7-42da-a11c-bbb09c0a4e92",
   "metadata": {},
   "outputs": [],
   "source": [
    "df = pd.read_csv('../raw_data/artists.csv')"
   ]
  },
  {
   "cell_type": "markdown",
   "id": "d7473d4a-4fd3-436b-b205-655d079e2ca1",
   "metadata": {
    "jp-MarkdownHeadingCollapsed": true
   },
   "source": [
    "## 1. Creating broader art style labels"
   ]
  },
  {
   "cell_type": "code",
   "execution_count": 4,
   "id": "f542c867",
   "metadata": {},
   "outputs": [],
   "source": [
    "genre_mapping = {\n",
    "    \"Social Realism,Muralism\": \"Realism,Muralism\",\n",
    "    \"Post-Impressionism\": \"Impressionism\",\n",
    "    \"Northern Renaissance\": \"Renaissance\",\n",
    "    \"Proto Renaissance\": \"Renaissance\",\n",
    "    \"Early Renaissance\": \"Renaissance\",\n",
    "    \"High Renaissance\": \"Renaissance\",\n",
    "    \"Impressionism,Post-Impressionism\": \"Impressionism\",\n",
    "    \"High Renaissance,Mannerism\": \"Renaissance,Mannerism\",\n",
    "    \"Symbolism,Post-Impressionism\": \"Symbolism,Impressionism\",\n",
    "    \"Abstract Expressionism\": \"Expressionism\"\n",
    "}"
   ]
  },
  {
   "cell_type": "code",
   "execution_count": 5,
   "id": "70a4be5d",
   "metadata": {},
   "outputs": [],
   "source": [
    "def simplify_genre(genre_string):\n",
    "    return genre_mapping.get(genre_string, genre_string)\n",
    "\n",
    "df[\"genre_simplified\"] = df[\"genre\"].apply(simplify_genre)"
   ]
  },
  {
   "cell_type": "code",
   "execution_count": 7,
   "id": "007495ec-2a14-4203-86ac-ec3c72d8ba00",
   "metadata": {
    "scrolled": true
   },
   "outputs": [
    {
     "data": {
      "text/plain": [
       "genre_simplified\n",
       "Impressionism                              10\n",
       "Renaissance                                 9\n",
       "Baroque                                     4\n",
       "Romanticism                                 3\n",
       "Expressionism                               2\n",
       "Surrealism                                  2\n",
       "Primitivism                                 2\n",
       "Primitivism,Surrealism                      1\n",
       "Pop Art                                     1\n",
       "Neoplasticism                               1\n",
       "Expressionism,Abstractionism,Surrealism     1\n",
       "Symbolism,Expressionism                     1\n",
       "Realism                                     1\n",
       "Renaissance,Mannerism                       1\n",
       "Mannerism                                   1\n",
       "Cubism                                      1\n",
       "Expressionism,Abstractionism                1\n",
       "Symbolism                                   1\n",
       "Suprematism                                 1\n",
       "Symbolism,Art Nouveau                       1\n",
       "Byzantine Art                               1\n",
       "Realism,Impressionism                       1\n",
       "Surrealism,Impressionism                    1\n",
       "Realism,Muralism                            1\n",
       "Symbolism,Impressionism                     1\n",
       "Name: count, dtype: int64"
      ]
     },
     "execution_count": 7,
     "metadata": {},
     "output_type": "execute_result"
    }
   ],
   "source": [
    "df[\"genre_simplified\"].value_counts()"
   ]
  },
  {
   "cell_type": "code",
   "execution_count": 8,
   "id": "40a104aa-7ba5-41f9-9b4a-c3e53cc107e8",
   "metadata": {},
   "outputs": [],
   "source": [
    "artists_genres = df[\"genre_simplified\"].apply(lambda x: [g.strip() for g in x.split(',') if g.strip()])"
   ]
  },
  {
   "cell_type": "code",
   "execution_count": 10,
   "id": "940b4712-5f71-47ab-a7c2-d5292cf48348",
   "metadata": {},
   "outputs": [
    {
     "name": "stdout",
     "output_type": "stream",
     "text": [
      "['Abstractionism' 'Art Nouveau' 'Baroque' 'Byzantine Art' 'Cubism'\n",
      " 'Expressionism' 'Impressionism' 'Mannerism' 'Muralism' 'Neoplasticism'\n",
      " 'Pop Art' 'Primitivism' 'Realism' 'Renaissance' 'Romanticism'\n",
      " 'Suprematism' 'Surrealism' 'Symbolism']\n",
      "18\n"
     ]
    }
   ],
   "source": [
    "mlb = MultiLabelBinarizer()\n",
    "genres_encoded = mlb.fit_transform(artists_genres)\n",
    "print(mlb.classes_)\n",
    "print(len(mlb.classes_))\n",
    "genres_dataframe = pd.DataFrame(genres_encoded, columns=mlb.classes_, index=df.index)"
   ]
  },
  {
   "cell_type": "code",
   "execution_count": 11,
   "id": "973b23e9-83d5-43cf-9790-4ba936482330",
   "metadata": {
    "scrolled": true
   },
   "outputs": [
    {
     "data": {
      "text/html": [
       "<div>\n",
       "<style scoped>\n",
       "    .dataframe tbody tr th:only-of-type {\n",
       "        vertical-align: middle;\n",
       "    }\n",
       "\n",
       "    .dataframe tbody tr th {\n",
       "        vertical-align: top;\n",
       "    }\n",
       "\n",
       "    .dataframe thead th {\n",
       "        text-align: right;\n",
       "    }\n",
       "</style>\n",
       "<table border=\"1\" class=\"dataframe\">\n",
       "  <thead>\n",
       "    <tr style=\"text-align: right;\">\n",
       "      <th></th>\n",
       "      <th>id</th>\n",
       "      <th>name</th>\n",
       "      <th>years</th>\n",
       "      <th>genre</th>\n",
       "      <th>nationality</th>\n",
       "      <th>bio</th>\n",
       "      <th>wikipedia</th>\n",
       "      <th>paintings</th>\n",
       "      <th>genre_simplified</th>\n",
       "      <th>Abstractionism</th>\n",
       "      <th>...</th>\n",
       "      <th>Muralism</th>\n",
       "      <th>Neoplasticism</th>\n",
       "      <th>Pop Art</th>\n",
       "      <th>Primitivism</th>\n",
       "      <th>Realism</th>\n",
       "      <th>Renaissance</th>\n",
       "      <th>Romanticism</th>\n",
       "      <th>Suprematism</th>\n",
       "      <th>Surrealism</th>\n",
       "      <th>Symbolism</th>\n",
       "    </tr>\n",
       "  </thead>\n",
       "  <tbody>\n",
       "    <tr>\n",
       "      <th>0</th>\n",
       "      <td>0</td>\n",
       "      <td>Amedeo Modigliani</td>\n",
       "      <td>1884 - 1920</td>\n",
       "      <td>Expressionism</td>\n",
       "      <td>Italian</td>\n",
       "      <td>Amedeo Clemente Modigliani (Italian pronunciat...</td>\n",
       "      <td>http://en.wikipedia.org/wiki/Amedeo_Modigliani</td>\n",
       "      <td>193</td>\n",
       "      <td>Expressionism</td>\n",
       "      <td>0</td>\n",
       "      <td>...</td>\n",
       "      <td>0</td>\n",
       "      <td>0</td>\n",
       "      <td>0</td>\n",
       "      <td>0</td>\n",
       "      <td>0</td>\n",
       "      <td>0</td>\n",
       "      <td>0</td>\n",
       "      <td>0</td>\n",
       "      <td>0</td>\n",
       "      <td>0</td>\n",
       "    </tr>\n",
       "    <tr>\n",
       "      <th>1</th>\n",
       "      <td>1</td>\n",
       "      <td>Vasiliy Kandinskiy</td>\n",
       "      <td>1866 - 1944</td>\n",
       "      <td>Expressionism,Abstractionism</td>\n",
       "      <td>Russian</td>\n",
       "      <td>Wassily Wassilyevich Kandinsky (Russian: Васи́...</td>\n",
       "      <td>http://en.wikipedia.org/wiki/Wassily_Kandinsky</td>\n",
       "      <td>88</td>\n",
       "      <td>Expressionism,Abstractionism</td>\n",
       "      <td>1</td>\n",
       "      <td>...</td>\n",
       "      <td>0</td>\n",
       "      <td>0</td>\n",
       "      <td>0</td>\n",
       "      <td>0</td>\n",
       "      <td>0</td>\n",
       "      <td>0</td>\n",
       "      <td>0</td>\n",
       "      <td>0</td>\n",
       "      <td>0</td>\n",
       "      <td>0</td>\n",
       "    </tr>\n",
       "    <tr>\n",
       "      <th>2</th>\n",
       "      <td>2</td>\n",
       "      <td>Diego Rivera</td>\n",
       "      <td>1886 - 1957</td>\n",
       "      <td>Social Realism,Muralism</td>\n",
       "      <td>Mexican</td>\n",
       "      <td>Diego María de la Concepción Juan Nepomuceno E...</td>\n",
       "      <td>http://en.wikipedia.org/wiki/Diego_Rivera</td>\n",
       "      <td>70</td>\n",
       "      <td>Realism,Muralism</td>\n",
       "      <td>0</td>\n",
       "      <td>...</td>\n",
       "      <td>1</td>\n",
       "      <td>0</td>\n",
       "      <td>0</td>\n",
       "      <td>0</td>\n",
       "      <td>1</td>\n",
       "      <td>0</td>\n",
       "      <td>0</td>\n",
       "      <td>0</td>\n",
       "      <td>0</td>\n",
       "      <td>0</td>\n",
       "    </tr>\n",
       "    <tr>\n",
       "      <th>3</th>\n",
       "      <td>3</td>\n",
       "      <td>Claude Monet</td>\n",
       "      <td>1840 - 1926</td>\n",
       "      <td>Impressionism</td>\n",
       "      <td>French</td>\n",
       "      <td>Oscar-Claude Monet (; French: [klod mɔnɛ]; 14 ...</td>\n",
       "      <td>http://en.wikipedia.org/wiki/Claude_Monet</td>\n",
       "      <td>73</td>\n",
       "      <td>Impressionism</td>\n",
       "      <td>0</td>\n",
       "      <td>...</td>\n",
       "      <td>0</td>\n",
       "      <td>0</td>\n",
       "      <td>0</td>\n",
       "      <td>0</td>\n",
       "      <td>0</td>\n",
       "      <td>0</td>\n",
       "      <td>0</td>\n",
       "      <td>0</td>\n",
       "      <td>0</td>\n",
       "      <td>0</td>\n",
       "    </tr>\n",
       "    <tr>\n",
       "      <th>4</th>\n",
       "      <td>4</td>\n",
       "      <td>Rene Magritte</td>\n",
       "      <td>1898 - 1967</td>\n",
       "      <td>Surrealism,Impressionism</td>\n",
       "      <td>Belgian</td>\n",
       "      <td>René François Ghislain Magritte (French: [ʁəne...</td>\n",
       "      <td>http://en.wikipedia.org/wiki/René_Magritte</td>\n",
       "      <td>194</td>\n",
       "      <td>Surrealism,Impressionism</td>\n",
       "      <td>0</td>\n",
       "      <td>...</td>\n",
       "      <td>0</td>\n",
       "      <td>0</td>\n",
       "      <td>0</td>\n",
       "      <td>0</td>\n",
       "      <td>0</td>\n",
       "      <td>0</td>\n",
       "      <td>0</td>\n",
       "      <td>0</td>\n",
       "      <td>1</td>\n",
       "      <td>0</td>\n",
       "    </tr>\n",
       "  </tbody>\n",
       "</table>\n",
       "<p>5 rows × 27 columns</p>\n",
       "</div>"
      ],
      "text/plain": [
       "   id                name        years                         genre  \\\n",
       "0   0   Amedeo Modigliani  1884 - 1920                 Expressionism   \n",
       "1   1  Vasiliy Kandinskiy  1866 - 1944  Expressionism,Abstractionism   \n",
       "2   2        Diego Rivera  1886 - 1957       Social Realism,Muralism   \n",
       "3   3        Claude Monet  1840 - 1926                 Impressionism   \n",
       "4   4       Rene Magritte  1898 - 1967      Surrealism,Impressionism   \n",
       "\n",
       "  nationality                                                bio  \\\n",
       "0     Italian  Amedeo Clemente Modigliani (Italian pronunciat...   \n",
       "1     Russian  Wassily Wassilyevich Kandinsky (Russian: Васи́...   \n",
       "2     Mexican  Diego María de la Concepción Juan Nepomuceno E...   \n",
       "3      French  Oscar-Claude Monet (; French: [klod mɔnɛ]; 14 ...   \n",
       "4     Belgian  René François Ghislain Magritte (French: [ʁəne...   \n",
       "\n",
       "                                        wikipedia  paintings  \\\n",
       "0  http://en.wikipedia.org/wiki/Amedeo_Modigliani        193   \n",
       "1  http://en.wikipedia.org/wiki/Wassily_Kandinsky         88   \n",
       "2       http://en.wikipedia.org/wiki/Diego_Rivera         70   \n",
       "3       http://en.wikipedia.org/wiki/Claude_Monet         73   \n",
       "4      http://en.wikipedia.org/wiki/René_Magritte        194   \n",
       "\n",
       "               genre_simplified  Abstractionism  ...  Muralism  Neoplasticism  \\\n",
       "0                 Expressionism               0  ...         0              0   \n",
       "1  Expressionism,Abstractionism               1  ...         0              0   \n",
       "2              Realism,Muralism               0  ...         1              0   \n",
       "3                 Impressionism               0  ...         0              0   \n",
       "4      Surrealism,Impressionism               0  ...         0              0   \n",
       "\n",
       "   Pop Art  Primitivism  Realism  Renaissance  Romanticism  Suprematism  \\\n",
       "0        0            0        0            0            0            0   \n",
       "1        0            0        0            0            0            0   \n",
       "2        0            0        1            0            0            0   \n",
       "3        0            0        0            0            0            0   \n",
       "4        0            0        0            0            0            0   \n",
       "\n",
       "   Surrealism  Symbolism  \n",
       "0           0          0  \n",
       "1           0          0  \n",
       "2           0          0  \n",
       "3           0          0  \n",
       "4           1          0  \n",
       "\n",
       "[5 rows x 27 columns]"
      ]
     },
     "execution_count": 11,
     "metadata": {},
     "output_type": "execute_result"
    }
   ],
   "source": [
    "encoded_genres_dataframe = pd.concat([df, genres_dataframe], axis=1)\n",
    "encoded_genres_dataframe.head()"
   ]
  },
  {
   "cell_type": "markdown",
   "id": "0068eb02-346c-4b66-abb9-c15255f2ee72",
   "metadata": {},
   "source": [
    "## 2. Extracting artists names "
   ]
  },
  {
   "cell_type": "code",
   "execution_count": 12,
   "id": "662e4193-efc8-485f-9cbd-9e7dda7b92cf",
   "metadata": {},
   "outputs": [],
   "source": [
    "import sys\n",
    "import os\n",
    "sys.path.append(os.path.abspath('..'))  # Adds the project root to sys.path"
   ]
  },
  {
   "cell_type": "code",
   "execution_count": 13,
   "id": "c9c5cfde-a75c-4ccf-bb41-ef0be76c4838",
   "metadata": {},
   "outputs": [
    {
     "data": {
      "text/html": [
       "<div>\n",
       "<style scoped>\n",
       "    .dataframe tbody tr th:only-of-type {\n",
       "        vertical-align: middle;\n",
       "    }\n",
       "\n",
       "    .dataframe tbody tr th {\n",
       "        vertical-align: top;\n",
       "    }\n",
       "\n",
       "    .dataframe thead th {\n",
       "        text-align: right;\n",
       "    }\n",
       "</style>\n",
       "<table border=\"1\" class=\"dataframe\">\n",
       "  <thead>\n",
       "    <tr style=\"text-align: right;\">\n",
       "      <th></th>\n",
       "      <th>image_path</th>\n",
       "      <th>artist_name</th>\n",
       "    </tr>\n",
       "  </thead>\n",
       "  <tbody>\n",
       "    <tr>\n",
       "      <th>0</th>\n",
       "      <td>../raw_data/resized/Gustav_Klimt_113.jpg</td>\n",
       "      <td>Gustav Klimt</td>\n",
       "    </tr>\n",
       "    <tr>\n",
       "      <th>1</th>\n",
       "      <td>../raw_data/resized/Vincent_van_Gogh_388.jpg</td>\n",
       "      <td>Vincent van Gogh</td>\n",
       "    </tr>\n",
       "    <tr>\n",
       "      <th>2</th>\n",
       "      <td>../raw_data/resized/Amedeo_Modigliani_24.jpg</td>\n",
       "      <td>Amedeo Modigliani</td>\n",
       "    </tr>\n",
       "    <tr>\n",
       "      <th>3</th>\n",
       "      <td>../raw_data/resized/Edgar_Degas_455.jpg</td>\n",
       "      <td>Edgar Degas</td>\n",
       "    </tr>\n",
       "    <tr>\n",
       "      <th>4</th>\n",
       "      <td>../raw_data/resized/Edgar_Degas_333.jpg</td>\n",
       "      <td>Edgar Degas</td>\n",
       "    </tr>\n",
       "  </tbody>\n",
       "</table>\n",
       "</div>"
      ],
      "text/plain": [
       "                                     image_path        artist_name\n",
       "0      ../raw_data/resized/Gustav_Klimt_113.jpg       Gustav Klimt\n",
       "1  ../raw_data/resized/Vincent_van_Gogh_388.jpg   Vincent van Gogh\n",
       "2  ../raw_data/resized/Amedeo_Modigliani_24.jpg  Amedeo Modigliani\n",
       "3       ../raw_data/resized/Edgar_Degas_455.jpg        Edgar Degas\n",
       "4       ../raw_data/resized/Edgar_Degas_333.jpg        Edgar Degas"
      ]
     },
     "execution_count": 13,
     "metadata": {},
     "output_type": "execute_result"
    }
   ],
   "source": [
    "from preprocessing_package.extract_artist_name import create_image_artist_df\n",
    "\n",
    "image_artist_df = create_image_artist_df(images_root=\"../raw_data/resized\")\n",
    "image_artist_df.head()"
   ]
  },
  {
   "cell_type": "markdown",
   "id": "c296c4e0-4fd2-491d-8c9a-73719a322c70",
   "metadata": {},
   "source": [
    "## 3. Merging databases"
   ]
  },
  {
   "cell_type": "code",
   "execution_count": 14,
   "id": "73957409-5c2d-4cb6-84e3-7c43f70fe54e",
   "metadata": {},
   "outputs": [],
   "source": [
    "# make names lowercase\n",
    "encoded_genres_dataframe[\"name\"] = encoded_genres_dataframe[\"name\"].str.lower()\n",
    "image_artist_df[\"artist_name\"] = image_artist_df[\"artist_name\"].str.lower()\n",
    "\n",
    "# Join on cleaned names\n",
    "merged_df = image_artist_df.merge(encoded_genres_dataframe, left_on=\"artist_name\", right_on=\"name\", how=\"left\")"
   ]
  },
  {
   "cell_type": "code",
   "execution_count": 15,
   "id": "ebfd5868-4f00-49c5-9217-d2aaa7059690",
   "metadata": {},
   "outputs": [
    {
     "name": "stdout",
     "output_type": "stream",
     "text": [
      "True\n"
     ]
    }
   ],
   "source": [
    "# Check if all values in 'artist_name' and 'name' columns are equal\n",
    "print((merged_df['artist_name'] == merged_df['name']).all())"
   ]
  },
  {
   "cell_type": "code",
   "execution_count": 16,
   "id": "a072c62a-103f-4f11-83fe-3e5cd933c4b1",
   "metadata": {},
   "outputs": [],
   "source": [
    "merged_df = merged_df.drop(columns=['name'])"
   ]
  },
  {
   "cell_type": "code",
   "execution_count": 16,
   "id": "d9b1450b-ac21-4e27-8ac9-60b97b170785",
   "metadata": {},
   "outputs": [
    {
     "data": {
      "text/html": [
       "<div>\n",
       "<style scoped>\n",
       "    .dataframe tbody tr th:only-of-type {\n",
       "        vertical-align: middle;\n",
       "    }\n",
       "\n",
       "    .dataframe tbody tr th {\n",
       "        vertical-align: top;\n",
       "    }\n",
       "\n",
       "    .dataframe thead th {\n",
       "        text-align: right;\n",
       "    }\n",
       "</style>\n",
       "<table border=\"1\" class=\"dataframe\">\n",
       "  <thead>\n",
       "    <tr style=\"text-align: right;\">\n",
       "      <th></th>\n",
       "      <th>image_path</th>\n",
       "      <th>artist_name</th>\n",
       "      <th>id</th>\n",
       "      <th>years</th>\n",
       "      <th>genre</th>\n",
       "      <th>nationality</th>\n",
       "      <th>bio</th>\n",
       "      <th>wikipedia</th>\n",
       "      <th>paintings</th>\n",
       "      <th>genre_simplified</th>\n",
       "      <th>...</th>\n",
       "      <th>Muralism</th>\n",
       "      <th>Neoplasticism</th>\n",
       "      <th>Pop Art</th>\n",
       "      <th>Primitivism</th>\n",
       "      <th>Realism</th>\n",
       "      <th>Renaissance</th>\n",
       "      <th>Romanticism</th>\n",
       "      <th>Suprematism</th>\n",
       "      <th>Surrealism</th>\n",
       "      <th>Symbolism</th>\n",
       "    </tr>\n",
       "  </thead>\n",
       "  <tbody>\n",
       "    <tr>\n",
       "      <th>0</th>\n",
       "      <td>../raw_data/resized/Gustav_Klimt_113.jpg</td>\n",
       "      <td>gustav klimt</td>\n",
       "      <td>9</td>\n",
       "      <td>1862 - 1918</td>\n",
       "      <td>Symbolism,Art Nouveau</td>\n",
       "      <td>Austrian</td>\n",
       "      <td>Gustav Klimt (July 14, 1862 – February 6, 1918...</td>\n",
       "      <td>http://en.wikipedia.org/wiki/Gustav_Klimt</td>\n",
       "      <td>117</td>\n",
       "      <td>Symbolism,Art Nouveau</td>\n",
       "      <td>...</td>\n",
       "      <td>0</td>\n",
       "      <td>0</td>\n",
       "      <td>0</td>\n",
       "      <td>0</td>\n",
       "      <td>0</td>\n",
       "      <td>0</td>\n",
       "      <td>0</td>\n",
       "      <td>0</td>\n",
       "      <td>0</td>\n",
       "      <td>1</td>\n",
       "    </tr>\n",
       "    <tr>\n",
       "      <th>1</th>\n",
       "      <td>../raw_data/resized/Vincent_van_Gogh_388.jpg</td>\n",
       "      <td>vincent van gogh</td>\n",
       "      <td>8</td>\n",
       "      <td>1853 – 1890</td>\n",
       "      <td>Post-Impressionism</td>\n",
       "      <td>Dutch</td>\n",
       "      <td>Vincent Willem van Gogh (Dutch: [ˈvɪnsɛnt ˈʋɪl...</td>\n",
       "      <td>http://en.wikipedia.org/wiki/Vincent_van_Gogh</td>\n",
       "      <td>877</td>\n",
       "      <td>Impressionism</td>\n",
       "      <td>...</td>\n",
       "      <td>0</td>\n",
       "      <td>0</td>\n",
       "      <td>0</td>\n",
       "      <td>0</td>\n",
       "      <td>0</td>\n",
       "      <td>0</td>\n",
       "      <td>0</td>\n",
       "      <td>0</td>\n",
       "      <td>0</td>\n",
       "      <td>0</td>\n",
       "    </tr>\n",
       "    <tr>\n",
       "      <th>2</th>\n",
       "      <td>../raw_data/resized/Amedeo_Modigliani_24.jpg</td>\n",
       "      <td>amedeo modigliani</td>\n",
       "      <td>0</td>\n",
       "      <td>1884 - 1920</td>\n",
       "      <td>Expressionism</td>\n",
       "      <td>Italian</td>\n",
       "      <td>Amedeo Clemente Modigliani (Italian pronunciat...</td>\n",
       "      <td>http://en.wikipedia.org/wiki/Amedeo_Modigliani</td>\n",
       "      <td>193</td>\n",
       "      <td>Expressionism</td>\n",
       "      <td>...</td>\n",
       "      <td>0</td>\n",
       "      <td>0</td>\n",
       "      <td>0</td>\n",
       "      <td>0</td>\n",
       "      <td>0</td>\n",
       "      <td>0</td>\n",
       "      <td>0</td>\n",
       "      <td>0</td>\n",
       "      <td>0</td>\n",
       "      <td>0</td>\n",
       "    </tr>\n",
       "    <tr>\n",
       "      <th>3</th>\n",
       "      <td>../raw_data/resized/Edgar_Degas_455.jpg</td>\n",
       "      <td>edgar degas</td>\n",
       "      <td>30</td>\n",
       "      <td>1834 - 1917</td>\n",
       "      <td>Impressionism</td>\n",
       "      <td>French</td>\n",
       "      <td>Edgar Degas (US:  or UK: ; born Hilaire-Germai...</td>\n",
       "      <td>http://en.wikipedia.org/wiki/Edgar_Degas</td>\n",
       "      <td>702</td>\n",
       "      <td>Impressionism</td>\n",
       "      <td>...</td>\n",
       "      <td>0</td>\n",
       "      <td>0</td>\n",
       "      <td>0</td>\n",
       "      <td>0</td>\n",
       "      <td>0</td>\n",
       "      <td>0</td>\n",
       "      <td>0</td>\n",
       "      <td>0</td>\n",
       "      <td>0</td>\n",
       "      <td>0</td>\n",
       "    </tr>\n",
       "    <tr>\n",
       "      <th>4</th>\n",
       "      <td>../raw_data/resized/Edgar_Degas_333.jpg</td>\n",
       "      <td>edgar degas</td>\n",
       "      <td>30</td>\n",
       "      <td>1834 - 1917</td>\n",
       "      <td>Impressionism</td>\n",
       "      <td>French</td>\n",
       "      <td>Edgar Degas (US:  or UK: ; born Hilaire-Germai...</td>\n",
       "      <td>http://en.wikipedia.org/wiki/Edgar_Degas</td>\n",
       "      <td>702</td>\n",
       "      <td>Impressionism</td>\n",
       "      <td>...</td>\n",
       "      <td>0</td>\n",
       "      <td>0</td>\n",
       "      <td>0</td>\n",
       "      <td>0</td>\n",
       "      <td>0</td>\n",
       "      <td>0</td>\n",
       "      <td>0</td>\n",
       "      <td>0</td>\n",
       "      <td>0</td>\n",
       "      <td>0</td>\n",
       "    </tr>\n",
       "  </tbody>\n",
       "</table>\n",
       "<p>5 rows × 28 columns</p>\n",
       "</div>"
      ],
      "text/plain": [
       "                                     image_path        artist_name  id  \\\n",
       "0      ../raw_data/resized/Gustav_Klimt_113.jpg       gustav klimt   9   \n",
       "1  ../raw_data/resized/Vincent_van_Gogh_388.jpg   vincent van gogh   8   \n",
       "2  ../raw_data/resized/Amedeo_Modigliani_24.jpg  amedeo modigliani   0   \n",
       "3       ../raw_data/resized/Edgar_Degas_455.jpg        edgar degas  30   \n",
       "4       ../raw_data/resized/Edgar_Degas_333.jpg        edgar degas  30   \n",
       "\n",
       "         years                  genre nationality  \\\n",
       "0  1862 - 1918  Symbolism,Art Nouveau    Austrian   \n",
       "1  1853 – 1890     Post-Impressionism       Dutch   \n",
       "2  1884 - 1920          Expressionism     Italian   \n",
       "3  1834 - 1917          Impressionism      French   \n",
       "4  1834 - 1917          Impressionism      French   \n",
       "\n",
       "                                                 bio  \\\n",
       "0  Gustav Klimt (July 14, 1862 – February 6, 1918...   \n",
       "1  Vincent Willem van Gogh (Dutch: [ˈvɪnsɛnt ˈʋɪl...   \n",
       "2  Amedeo Clemente Modigliani (Italian pronunciat...   \n",
       "3  Edgar Degas (US:  or UK: ; born Hilaire-Germai...   \n",
       "4  Edgar Degas (US:  or UK: ; born Hilaire-Germai...   \n",
       "\n",
       "                                        wikipedia  paintings  \\\n",
       "0       http://en.wikipedia.org/wiki/Gustav_Klimt        117   \n",
       "1   http://en.wikipedia.org/wiki/Vincent_van_Gogh        877   \n",
       "2  http://en.wikipedia.org/wiki/Amedeo_Modigliani        193   \n",
       "3        http://en.wikipedia.org/wiki/Edgar_Degas        702   \n",
       "4        http://en.wikipedia.org/wiki/Edgar_Degas        702   \n",
       "\n",
       "        genre_simplified  ...  Muralism  Neoplasticism  Pop Art  Primitivism  \\\n",
       "0  Symbolism,Art Nouveau  ...         0              0        0            0   \n",
       "1          Impressionism  ...         0              0        0            0   \n",
       "2          Expressionism  ...         0              0        0            0   \n",
       "3          Impressionism  ...         0              0        0            0   \n",
       "4          Impressionism  ...         0              0        0            0   \n",
       "\n",
       "   Realism  Renaissance  Romanticism  Suprematism  Surrealism  Symbolism  \n",
       "0        0            0            0            0           0          1  \n",
       "1        0            0            0            0           0          0  \n",
       "2        0            0            0            0           0          0  \n",
       "3        0            0            0            0           0          0  \n",
       "4        0            0            0            0           0          0  \n",
       "\n",
       "[5 rows x 28 columns]"
      ]
     },
     "execution_count": 16,
     "metadata": {},
     "output_type": "execute_result"
    }
   ],
   "source": [
    "merged_df.head()"
   ]
  },
  {
   "cell_type": "code",
   "execution_count": 17,
   "id": "b4c8664e-c406-43e3-b148-aa096fe06cf4",
   "metadata": {},
   "outputs": [
    {
     "data": {
      "text/plain": [
       "Index(['image_path', 'artist_name', 'id', 'years', 'genre', 'nationality',\n",
       "       'bio', 'wikipedia', 'paintings', 'genre_simplified', 'Abstractionism',\n",
       "       'Art Nouveau', 'Baroque', 'Byzantine Art', 'Cubism', 'Expressionism',\n",
       "       'Impressionism', 'Mannerism', 'Muralism', 'Neoplasticism', 'Pop Art',\n",
       "       'Primitivism', 'Realism', 'Renaissance', 'Romanticism', 'Suprematism',\n",
       "       'Surrealism', 'Symbolism'],\n",
       "      dtype='object')"
      ]
     },
     "execution_count": 17,
     "metadata": {},
     "output_type": "execute_result"
    }
   ],
   "source": [
    "merged_df.columns"
   ]
  },
  {
   "cell_type": "code",
   "execution_count": 18,
   "id": "c3443742-f71d-4dbe-b6d6-0ed45fb4226b",
   "metadata": {},
   "outputs": [],
   "source": [
    "# Save the result to CSV\n",
    "merged_df.to_csv(\"../raw_data/merged_df.csv\", index=False)"
   ]
  },
  {
   "cell_type": "code",
   "execution_count": 20,
   "id": "b708dc2c",
   "metadata": {},
   "outputs": [
    {
     "data": {
      "text/plain": [
       "image_path          0\n",
       "artist_name         0\n",
       "id                  0\n",
       "years               0\n",
       "genre               0\n",
       "nationality         0\n",
       "bio                 0\n",
       "wikipedia           0\n",
       "paintings           0\n",
       "genre_simplified    0\n",
       "Abstractionism      0\n",
       "Art Nouveau         0\n",
       "Baroque             0\n",
       "Byzantine Art       0\n",
       "Cubism              0\n",
       "Expressionism       0\n",
       "Impressionism       0\n",
       "Mannerism           0\n",
       "Muralism            0\n",
       "Neoplasticism       0\n",
       "Pop Art             0\n",
       "Primitivism         0\n",
       "Realism             0\n",
       "Renaissance         0\n",
       "Romanticism         0\n",
       "Suprematism         0\n",
       "Surrealism          0\n",
       "Symbolism           0\n",
       "dtype: int64"
      ]
     },
     "execution_count": 20,
     "metadata": {},
     "output_type": "execute_result"
    }
   ],
   "source": [
    "merged_df.isnull().sum()"
   ]
  },
  {
   "cell_type": "code",
   "execution_count": 23,
   "id": "ca2d1489",
   "metadata": {},
   "outputs": [
    {
     "data": {
      "text/plain": [
       "Index(['image_path', 'artist_name', 'id', 'years', 'genre', 'nationality',\n",
       "       'bio', 'wikipedia', 'paintings', 'genre_simplified', 'Abstractionism',\n",
       "       'Art Nouveau', 'Baroque', 'Byzantine Art', 'Cubism', 'Expressionism',\n",
       "       'Impressionism', 'Mannerism', 'Muralism', 'Neoplasticism', 'Pop Art',\n",
       "       'Primitivism', 'Realism', 'Renaissance', 'Romanticism', 'Suprematism',\n",
       "       'Surrealism', 'Symbolism'],\n",
       "      dtype='object')"
      ]
     },
     "execution_count": 23,
     "metadata": {},
     "output_type": "execute_result"
    }
   ],
   "source": [
    "merged_df.columns"
   ]
  },
  {
   "cell_type": "code",
   "execution_count": 24,
   "id": "0ce103e1",
   "metadata": {},
   "outputs": [],
   "source": [
    "import matplotlib.pyplot as plt\n",
    "\n",
    "# 1. Get the art style columns\n",
    "style_columns = merged_df.columns[merged_df.columns.get_loc('Abstractionism'):]\n",
    "\n",
    "# 2. Sum each column to count how many images are associated with each style\n",
    "style_counts = merged_df[style_columns].sum().sort_values(ascending=False)"
   ]
  },
  {
   "cell_type": "code",
   "execution_count": 25,
   "id": "08218ae7",
   "metadata": {},
   "outputs": [
    {
     "data": {
      "image/png": "[encoded data removed]",
      "text/plain": [
       "<Figure size 1200x600 with 1 Axes>"
      ]
     },
     "metadata": {},
     "output_type": "display_data"
    }
   ],
   "source": [
    "# 3. Plot\n",
    "plt.figure(figsize=(12, 6))\n",
    "style_counts.plot(kind='bar', color='skyblue', edgecolor='black')\n",
    "plt.title('Distribution of Art Styles')\n",
    "plt.ylabel('Number of Paintings')\n",
    "plt.xticks(rotation=45, ha='right')\n",
    "plt.tight_layout()\n",
    "plt.grid(axis='y', linestyle='--', alpha=0.7)\n",
    "plt.show()"
   ]
  }
 ],
 "metadata": {
  "kernelspec": {
   "display_name": "art_dna",
   "language": "python",
   "name": "python3"
  },
  "language_info": {
   "codemirror_mode": {
    "name": "ipython",
    "version": 3
   },
   "file_extension": ".py",
   "mimetype": "text/x-python",
   "name": "python",
   "nbconvert_exporter": "python",
   "pygments_lexer": "ipython3",
   "version": "3.10.6"
  }
 },
 "nbformat": 4,
 "nbformat_minor": 5
}
